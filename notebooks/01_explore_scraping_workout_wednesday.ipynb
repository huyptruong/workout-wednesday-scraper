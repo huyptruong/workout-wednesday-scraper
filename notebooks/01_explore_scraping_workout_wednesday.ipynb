{
 "cells": [
  {
   "cell_type": "markdown",
   "id": "7ad19b4f",
   "metadata": {},
   "source": [
    "# Purpose\n",
    "\n",
    "[Workout Wednesday](https://workout-wednesday.com/) is a platform that hosts weekly data visualization challenges across various BI tools including Tableau, Power BI, CRM Analytics (Salesforce), and Sigma.\n",
    "\n",
    "This notebook demonstrates methods to scrape these weekly challenges and structure the extracted data into a tabular format for further analysis. For more context about the project setup and goals, please refer to the `README.md` file.\n"
   ]
  },
  {
   "cell_type": "markdown",
   "id": "a7565b5e",
   "metadata": {},
   "source": [
    "## Connect to the Web Page\n",
    "\n",
    "Given a URL, we can use BeautifulSoup to fetch the page content. Since this content is returned in HTML format, it's helpful to be familiar with HTML basics. [W3Schools](https://www.w3schools.com/) is a great resource for learning HTML structure and elements."
   ]
  },
  {
   "cell_type": "code",
   "execution_count": 1,
   "id": "8c541488",
   "metadata": {},
   "outputs": [],
   "source": [
    "# Install packages needed\n",
    "# %pip install requests \n",
    "# %pip install beautifulsoup4 \n",
    "# %pip install lxml # parser for HTML elements\n",
    "# %pip install pandas"
   ]
  },
  {
   "cell_type": "code",
   "execution_count": 2,
   "id": "7094a254",
   "metadata": {},
   "outputs": [
    {
     "name": "stdout",
     "output_type": "stream",
     "text": [
      "Status Code: 200\n",
      "Latest Challenges – Workout Wednesday\n"
     ]
    }
   ],
   "source": [
    "# Connect to the web page\n",
    "\n",
    "import requests\n",
    "from bs4 import BeautifulSoup\n",
    "\n",
    "# Target URL with all challenge data in Tableau\n",
    "url = \"https://workout-wednesday.com/latest\"\n",
    "\n",
    "# Send GET request\n",
    "response = requests.get(url)\n",
    "print(\"Status Code:\", response.status_code)\n",
    "\n",
    "# Parse HTML with BeautifulSoup\n",
    "soup = BeautifulSoup(response.text, \"lxml\")\n",
    "\n",
    "# Print title of the page\n",
    "print(soup.title.text)\n"
   ]
  },
  {
   "cell_type": "markdown",
   "id": "fb2c5fa4",
   "metadata": {},
   "source": [
    "Here, the `soup` object contains all the HTML elements from the target URL.\n",
    "\n",
    "To inspect these elements manually:\n",
    "- Visit the URL\n",
    "- Right-click on the page\n",
    "- Choose **Inspect**\n",
    "\n",
    "![Inspect HTML elements of a web page](../images/inspect_webpage.png)\n",
    "\n",
    "Below is an example of one full challenge \"card\" shown in HTML:\n",
    "\n",
    "![HTML elements of a card](../images/first_tableau_card.png)\n",
    "\n",
    "**Note:** As the web page continuously publishes new challenges every Wednesday, your output may look different from what's shown here.\n"
   ]
  },
  {
   "cell_type": "code",
   "execution_count": 3,
   "id": "0b065996",
   "metadata": {},
   "outputs": [
    {
     "name": "stdout",
     "output_type": "stream",
     "text": [
      "<!DOCTYPE html>\n",
      "<html lang=\"en-US\">\n",
      " <head>\n",
      "  <meta charset=\"utf-8\"/>\n",
      "  <meta content=\"width=device-width, initial-scale=1\" name=\"viewport\"/>\n",
      "  <link href=\"https://gmpg.org/xfn/11\" rel=\"profile\"/>\n",
      "  <title>\n",
      "   Latest Challenges – Workout Wednesday\n",
      "  </title>\n",
      "  <meta content=\"max-image-preview:large\" name=\"robots\"/>\n",
      "  <style>\n",
      "   img:is([sizes=\"auto\" i], [sizes^=\"auto,\" i]) { contain-intrinsic-size: 3000px 1500px }\n",
      "  </style>\n",
      "  <link href=\"//fonts.googleapis.com\" rel=\"dns-prefetch\"/>\n",
      "  <link href=\"https://workout-wednesday.com/feed/\" rel=\"alternate\" title=\"Workout Wednesday » Feed\" type=\"application/rss+xml\"/>\n",
      "  <link href=\"https://workout-wednesday.com/comments/feed/\" rel=\"alternate\" title=\"Workout Wednesday » Comments Feed\" type=\"application/rss+xml\"/>\n",
      "  <!-- This site uses the Google Analytics by MonsterInsights plugin v8.20.1 - Using Analytics tracking - https://www.monsterinsights.com/ -->\n",
      "  <script async=\"\" data-cfasync=\"false\" data-wpfc-render=\"false\" src=\"//www.googletagmanager.c\n"
     ]
    }
   ],
   "source": [
    "# Here, soup contains all HTML elements of the target url\n",
    "# It's too long so we print out just the fist 1000 characters\n",
    "print(soup.prettify()[:1000])"
   ]
  },
  {
   "cell_type": "code",
   "execution_count": 4,
   "id": "81d0a56d",
   "metadata": {},
   "outputs": [
    {
     "name": "stdout",
     "output_type": "stream",
     "text": [
      "<title>Latest Challenges – Workout Wednesday</title>\n"
     ]
    }
   ],
   "source": [
    "# Print title of the web page, including its HTML tag\n",
    "print(soup.title)"
   ]
  },
  {
   "cell_type": "code",
   "execution_count": 5,
   "id": "ea1e0875",
   "metadata": {},
   "outputs": [
    {
     "ename": "AttributeError",
     "evalue": "'NoneType' object has no attribute 'text'",
     "output_type": "error",
     "traceback": [
      "\u001b[1;31m---------------------------------------------------------------------------\u001b[0m",
      "\u001b[1;31mAttributeError\u001b[0m                            Traceback (most recent call last)",
      "Cell \u001b[1;32mIn[5], line 2\u001b[0m\n\u001b[0;32m      1\u001b[0m \u001b[38;5;66;03m# The target url probably has no heading (h1)\u001b[39;00m\n\u001b[1;32m----> 2\u001b[0m \u001b[38;5;28mprint\u001b[39m(\u001b[43msoup\u001b[49m\u001b[38;5;241;43m.\u001b[39;49m\u001b[43mfind\u001b[49m\u001b[43m(\u001b[49m\u001b[38;5;124;43m'\u001b[39;49m\u001b[38;5;124;43mh1\u001b[39;49m\u001b[38;5;124;43m'\u001b[39;49m\u001b[43m)\u001b[49m\u001b[38;5;241;43m.\u001b[39;49m\u001b[43mtext\u001b[49m)\n",
      "\u001b[1;31mAttributeError\u001b[0m: 'NoneType' object has no attribute 'text'"
     ]
    }
   ],
   "source": [
    "# The target url probably has no heading (h1)\n",
    "print(soup.find('h1').text)"
   ]
  },
  {
   "cell_type": "code",
   "execution_count": 6,
   "id": "a255f80e",
   "metadata": {},
   "outputs": [
    {
     "name": "stdout",
     "output_type": "stream",
     "text": [
      "Found 201 posts\n"
     ]
    }
   ],
   "source": [
    "# Get all article links on the target page\n",
    "posts = soup.find_all(\"article\")\n",
    "\n",
    "print(f\"Found {len(posts)} posts\")\n",
    "\n",
    "for post in posts:\n",
    "    title_tag = post.find(\"h2\", class_=\"entry-title\")\n",
    "    link = title_tag.find(\"a\")[\"href\"] if title_tag else \"No link\"\n",
    "    title = title_tag.text.strip() if title_tag else \"No title\"\n",
    "    #print(f\"{title} -> {link}\") # It's all No title -> No link\n"
   ]
  },
  {
   "cell_type": "code",
   "execution_count": 7,
   "id": "a34bf81c",
   "metadata": {},
   "outputs": [
    {
     "name": "stdout",
     "output_type": "stream",
     "text": [
      "[<article class=\"post-3169 page type-page status-publish ast-article-single\" id=\"post-3169\" itemscope=\"itemscope\" itemtype=\"https://schema.org/CreativeWork\">\n",
      "<header class=\"entry-header ast-header-without-markup\">\n",
      "</header><!-- .entry-header -->\n",
      "<div class=\"entry-content clear\" itemprop=\"text\">\n",
      "<div class=\"elementor elementor-3169\" data-elementor-id=\"3169\" data-elementor-post-type=\"page\" data-elementor-type=\"wp-page\">\n",
      "<section class=\"elementor-section elementor-top-section elementor-element elementor-element-a681edc elementor-section-boxed elementor-section-height-default elementor-section-height-default\" data-element_type=\"section\" data-id=\"a681edc\">\n",
      "<div class=\"elementor-container elementor-column-gap-default\">\n",
      "<div class=\"elementor-column elementor-col-100 elementor-top-column elementor-element elementor-element-e250497\" data-element_type=\"column\" data-id=\"e250497\">\n",
      "<div class=\"elementor-widget-wrap elementor-element-populated\">\n",
      "<div class=\"elementor-element elementor-element-5ac3c8\n"
     ]
    }
   ],
   "source": [
    "# Print a collection of all articles\n",
    "print(str(posts)[:1000])\n"
   ]
  },
  {
   "cell_type": "markdown",
   "id": "78f95b7a",
   "metadata": {},
   "source": [
    "# Extract Info from One Card\n",
    "\n",
    "Every visible component on the web page is represented by underlying HTML tags. To extract data from a challenge card, we locate its surrounding tag — in this case, it's the `<article>` element.\n",
    "\n",
    "![HTML elements of a card](../images/first_tableau_card.png)\n",
    "\n",
    "We'll focus on extracting the following fields from each challenge card:\n",
    "\n",
    "![Info to be extracted](../images/data_to_be_extracted.png)\n"
   ]
  },
  {
   "cell_type": "code",
   "execution_count": 8,
   "id": "ae5295d3",
   "metadata": {},
   "outputs": [],
   "source": [
    "# Fetch data from the target url\n",
    "import requests\n",
    "from bs4 import BeautifulSoup\n",
    "\n",
    "url = \"https://workout-wednesday.com/latest/\"\n",
    "response = requests.get(url)\n",
    "soup = BeautifulSoup(response.text, \"lxml\")\n"
   ]
  },
  {
   "cell_type": "code",
   "execution_count": 9,
   "id": "1619cca5",
   "metadata": {},
   "outputs": [
    {
     "name": "stdout",
     "output_type": "stream",
     "text": [
      "Found 200 challenges\n"
     ]
    }
   ],
   "source": [
    "# Get info from all cards by grabbing the \"article\" tag\n",
    "challenge_cards = soup.find_all(\"article\", class_=\"elementor-post\")\n",
    "print(f\"Found {len(challenge_cards)} challenges\")\n"
   ]
  },
  {
   "cell_type": "code",
   "execution_count": 10,
   "id": "d4e7cdec",
   "metadata": {},
   "outputs": [],
   "source": [
    "# Pick the first card\n",
    "card = challenge_cards[0]"
   ]
  },
  {
   "cell_type": "code",
   "execution_count": 11,
   "id": "2c7ea070",
   "metadata": {},
   "outputs": [
    {
     "name": "stdout",
     "output_type": "stream",
     "text": [
      "<article class=\"elementor-post elementor-grid-item post-19209 post type-post status-publish format-standard has-post-thumbnail hentry category-tableau category-ww tag-parameters\">\n",
      " <div class=\"elementor-post__card\">\n",
      "  <a class=\"elementor-post__thumbnail__link\" href=\"https://workout-wednesday.com/2025w17tab/\" tabindex=\"-1\">\n",
      "   <div class=\"elementor-post__thumbnail\">\n",
      "    <img alt=\"\" class=\"attachment-full size-full wp-image-19215\" decoding=\"async\" height=\"832\" loading=\"lazy\" sizes=\"(max-width: 893px) 100vw, 893px\" src=\"https://workout-wednesday.com/wp-content/uploads/2025/04/WOW2025_17.png\" srcset=\"https://workout-wednesday.com/wp-content/uploads/2025/04/WOW2025_17.png 893w, https://workout-wednesday.com/wp-content/uploads/2025/04/WOW2025_17-300x280.png 300w, https://workout-wednesday.com/wp-content/uploads/2025/04/WOW2025_17-768x716.png 768w\" width=\"893\"/>\n",
      "   </div>\n",
      "  </a>\n",
      "  <div class=\"elementor-post__badge\">\n",
      "   Parameters\n",
      "  </div>\n",
      "  <div class=\"elementor-post__avatar\">\n",
      "   <img alt=\"Do\n"
     ]
    }
   ],
   "source": [
    "print(card.prettify()[:1000])"
   ]
  },
  {
   "cell_type": "code",
   "execution_count": 12,
   "id": "072e911d",
   "metadata": {},
   "outputs": [
    {
     "data": {
      "text/plain": [
       "['elementor-post',\n",
       " 'elementor-grid-item',\n",
       " 'post-19209',\n",
       " 'post',\n",
       " 'type-post',\n",
       " 'status-publish',\n",
       " 'format-standard',\n",
       " 'has-post-thumbnail',\n",
       " 'hentry',\n",
       " 'category-tableau',\n",
       " 'category-ww',\n",
       " 'tag-parameters']"
      ]
     },
     "execution_count": 12,
     "metadata": {},
     "output_type": "execute_result"
    }
   ],
   "source": [
    "card.get(\"class\")"
   ]
  },
  {
   "cell_type": "code",
   "execution_count": 13,
   "id": "95f1e2fe",
   "metadata": {},
   "outputs": [],
   "source": [
    "card.get(\"a\")"
   ]
  },
  {
   "cell_type": "code",
   "execution_count": 14,
   "id": "3899ce03",
   "metadata": {},
   "outputs": [
    {
     "name": "stdout",
     "output_type": "stream",
     "text": [
      "Challenge type: tableau\n"
     ]
    }
   ],
   "source": [
    "# Extract challenge type\n",
    "classes = card.get(\"class\")  # What attribute holds the list of classes?\n",
    "\n",
    "challenge_type = next(\n",
    "    (c.replace(\"category-\", \"\") for c in classes if c.startswith(\"category\")),  # What prefix are we searching for?\n",
    "    None\n",
    ")\n",
    "\n",
    "print(\"Challenge type:\", challenge_type)\n"
   ]
  },
  {
   "cell_type": "code",
   "execution_count": 15,
   "id": "da790380",
   "metadata": {},
   "outputs": [],
   "source": [
    "# Find the title of the card\n",
    "title_tag = card.find(\"h3\", class_=\"elementor-post__title\")  # What class should we look for?\n"
   ]
  },
  {
   "cell_type": "code",
   "execution_count": 16,
   "id": "662ad142",
   "metadata": {},
   "outputs": [
    {
     "data": {
      "text/plain": [
       "<h3 class=\"elementor-post__title\">\n",
       "<a href=\"https://workout-wednesday.com/2025w17tab/\">\n",
       "\t\t\t\t#WOW2025 | WEEK 17 | Can you switch measures?\t\t\t</a>\n",
       "</h3>"
      ]
     },
     "execution_count": 16,
     "metadata": {},
     "output_type": "execute_result"
    }
   ],
   "source": [
    "title_tag"
   ]
  },
  {
   "cell_type": "code",
   "execution_count": 17,
   "id": "7501547c",
   "metadata": {},
   "outputs": [
    {
     "data": {
      "text/plain": [
       "'\\n\\n\\t\\t\\t\\t#WOW2025 | WEEK 17 | Can you switch measures?\\t\\t\\t\\n'"
      ]
     },
     "execution_count": 17,
     "metadata": {},
     "output_type": "execute_result"
    }
   ],
   "source": [
    "title_tag.text"
   ]
  },
  {
   "cell_type": "code",
   "execution_count": 18,
   "id": "d54faa36",
   "metadata": {},
   "outputs": [
    {
     "data": {
      "text/plain": [
       "'https://workout-wednesday.com/2025w17tab/'"
      ]
     },
     "execution_count": 18,
     "metadata": {},
     "output_type": "execute_result"
    }
   ],
   "source": [
    "title_tag.find(\"a\")['href']"
   ]
  },
  {
   "cell_type": "code",
   "execution_count": 19,
   "id": "746008f9",
   "metadata": {},
   "outputs": [],
   "source": [
    "# Find the posted date of the card\n",
    "date_tag = card.find(\"span\", class_=\"elementor-post-date\")"
   ]
  },
  {
   "cell_type": "code",
   "execution_count": 20,
   "id": "705ca4cb",
   "metadata": {},
   "outputs": [
    {
     "data": {
      "text/plain": [
       "<span class=\"elementor-post-date\">\n",
       "\t\t\tApril 22, 2025\t\t</span>"
      ]
     },
     "execution_count": 20,
     "metadata": {},
     "output_type": "execute_result"
    }
   ],
   "source": [
    "date_tag"
   ]
  },
  {
   "cell_type": "code",
   "execution_count": 21,
   "id": "9db566d6",
   "metadata": {},
   "outputs": [
    {
     "data": {
      "text/plain": [
       "'April 22, 2025'"
      ]
     },
     "execution_count": 21,
     "metadata": {},
     "output_type": "execute_result"
    }
   ],
   "source": [
    "date_tag.text.strip()"
   ]
  },
  {
   "cell_type": "code",
   "execution_count": 22,
   "id": "da167b6e",
   "metadata": {},
   "outputs": [],
   "source": [
    "# Find the contributor name and their profile picture\n",
    "avatar_tag = card.find(\"img\", class_=\"avatar\")"
   ]
  },
  {
   "cell_type": "code",
   "execution_count": 23,
   "id": "2bdb945e",
   "metadata": {},
   "outputs": [
    {
     "data": {
      "text/plain": [
       "<img alt=\"Donna Coles\" class=\"avatar avatar-128 photo\" height=\"128\" src=\"https://secure.gravatar.com/avatar/1904e3dc24c53453cdaba442aa3dbbaf8957dc2cb9ae3d815b0e01e0403f9224?s=128&amp;d=mm&amp;r=g\" srcset=\"https://secure.gravatar.com/avatar/1904e3dc24c53453cdaba442aa3dbbaf8957dc2cb9ae3d815b0e01e0403f9224?s=256&amp;d=mm&amp;r=g 2x\" width=\"128\"/>"
      ]
     },
     "execution_count": 23,
     "metadata": {},
     "output_type": "execute_result"
    }
   ],
   "source": [
    "avatar_tag"
   ]
  },
  {
   "cell_type": "code",
   "execution_count": 24,
   "id": "254b1bd5",
   "metadata": {},
   "outputs": [
    {
     "data": {
      "text/plain": [
       "'Donna Coles'"
      ]
     },
     "execution_count": 24,
     "metadata": {},
     "output_type": "execute_result"
    }
   ],
   "source": [
    "avatar_tag.get(\"alt\")"
   ]
  },
  {
   "cell_type": "code",
   "execution_count": 25,
   "id": "d3a7c72a",
   "metadata": {},
   "outputs": [
    {
     "data": {
      "text/plain": [
       "'https://secure.gravatar.com/avatar/1904e3dc24c53453cdaba442aa3dbbaf8957dc2cb9ae3d815b0e01e0403f9224?s=128&d=mm&r=g'"
      ]
     },
     "execution_count": 25,
     "metadata": {},
     "output_type": "execute_result"
    }
   ],
   "source": [
    "avatar_tag.get(\"src\")"
   ]
  },
  {
   "cell_type": "markdown",
   "id": "0668f093",
   "metadata": {},
   "source": [
    "**Practice:**  \n",
    "Let’s extract all the required information from the first card again and assign the results to variables. At the end, we’ll store the extracted values in a dictionary for clarity and reusability."
   ]
  },
  {
   "cell_type": "code",
   "execution_count": 26,
   "id": "93fd5ff5",
   "metadata": {},
   "outputs": [],
   "source": [
    "# Find the skills that the challenge focuses on\n",
    "challenge_tag = card.find(\"div\", class_=\"elementor-post__badge\")\n",
    "challenge_skills = challenge_tag.text.strip()"
   ]
  },
  {
   "cell_type": "code",
   "execution_count": 27,
   "id": "d9bce496",
   "metadata": {},
   "outputs": [
    {
     "data": {
      "text/plain": [
       "'Parameters'"
      ]
     },
     "execution_count": 27,
     "metadata": {},
     "output_type": "execute_result"
    }
   ],
   "source": [
    "challenge_skills"
   ]
  },
  {
   "cell_type": "code",
   "execution_count": 28,
   "id": "97b0edb0",
   "metadata": {},
   "outputs": [],
   "source": [
    "avatar_tag = card.find(\"img\", class_=\"avatar\")\n",
    "contributor_name = avatar_tag.get(\"alt\")\n",
    "contributor_avatar = avatar_tag.get(\"src\")"
   ]
  },
  {
   "cell_type": "code",
   "execution_count": 29,
   "id": "aa864286",
   "metadata": {},
   "outputs": [
    {
     "name": "stdout",
     "output_type": "stream",
     "text": [
      "Donna Coles\n",
      "https://secure.gravatar.com/avatar/1904e3dc24c53453cdaba442aa3dbbaf8957dc2cb9ae3d815b0e01e0403f9224?s=128&d=mm&r=g\n"
     ]
    }
   ],
   "source": [
    "print(contributor_name)\n",
    "print(contributor_avatar)"
   ]
  },
  {
   "cell_type": "code",
   "execution_count": 30,
   "id": "9ac1ea63",
   "metadata": {},
   "outputs": [],
   "source": [
    "title_tag = card.find(\"h3\", class_=\"elementor-post__title\")\n",
    "challenge_name = title_tag.find(\"a\").text.strip()\n",
    "challenge_link = title_tag.find(\"a\").get(\"href\")"
   ]
  },
  {
   "cell_type": "code",
   "execution_count": 31,
   "id": "b7f5b974",
   "metadata": {},
   "outputs": [
    {
     "name": "stdout",
     "output_type": "stream",
     "text": [
      "#WOW2025 | WEEK 17 | Can you switch measures?\n",
      "https://workout-wednesday.com/2025w17tab/\n"
     ]
    }
   ],
   "source": [
    "print(challenge_name)\n",
    "print(challenge_link)"
   ]
  },
  {
   "cell_type": "code",
   "execution_count": 32,
   "id": "4056e870",
   "metadata": {},
   "outputs": [],
   "source": [
    "date_tag = card.find(\"span\", class_=\"elementor-post-date\")\n",
    "challenge_date = date_tag.text.strip() if date_tag else None"
   ]
  },
  {
   "cell_type": "code",
   "execution_count": 33,
   "id": "8037481d",
   "metadata": {},
   "outputs": [
    {
     "name": "stdout",
     "output_type": "stream",
     "text": [
      "April 22, 2025\n"
     ]
    }
   ],
   "source": [
    "print(challenge_date)"
   ]
  },
  {
   "cell_type": "code",
   "execution_count": 34,
   "id": "dcf6a148",
   "metadata": {},
   "outputs": [
    {
     "name": "stdout",
     "output_type": "stream",
     "text": [
      "{'challenge_type': ['tableau'], 'challenge_skills': 'Parameters', 'contributor_name': 'Donna Coles', 'contributor_avatar': 'https://secure.gravatar.com/avatar/1904e3dc24c53453cdaba442aa3dbbaf8957dc2cb9ae3d815b0e01e0403f9224?s=128&d=mm&r=g', 'challenge_name': '#WOW2025 | WEEK 17 | Can you switch measures?', 'challenge_link': 'https://workout-wednesday.com/2025w17tab/', 'challenge_date': 'April 22, 2025'}\n"
     ]
    }
   ],
   "source": [
    "# Dictionary containing extracted information\n",
    "challenge_data = {\n",
    "    \"challenge_type\": [\"tableau\"], # hard code this value since we know that we're extracting information about Tableau challenges\n",
    "    \"challenge_skills\": challenge_skills,\n",
    "    \"contributor_name\": contributor_name,\n",
    "    \"contributor_avatar\": contributor_avatar,\n",
    "    \"challenge_name\": challenge_name,\n",
    "    \"challenge_link\": challenge_link,\n",
    "    \"challenge_date\": challenge_date,\n",
    "}\n",
    "\n",
    "print(challenge_data)"
   ]
  },
  {
   "cell_type": "markdown",
   "id": "a0f95c72",
   "metadata": {},
   "source": [
    "**Practice:**  \n",
    "Now, try repeating the extraction process for the second challenge card."
   ]
  },
  {
   "cell_type": "code",
   "execution_count": 35,
   "id": "5a1690b2",
   "metadata": {},
   "outputs": [],
   "source": [
    "# Get the second card\n",
    "card = challenge_cards[1]"
   ]
  },
  {
   "cell_type": "code",
   "execution_count": 36,
   "id": "34bd6b34",
   "metadata": {},
   "outputs": [],
   "source": [
    "challenge_type = \"tableau\""
   ]
  },
  {
   "cell_type": "code",
   "execution_count": null,
   "id": "1a792b38",
   "metadata": {},
   "outputs": [
    {
     "name": "stdout",
     "output_type": "stream",
     "text": [
      "containers\n"
     ]
    }
   ],
   "source": [
    "# Return None if the challenge doesn't mention any skills\n",
    "challenge_tag = card.find(\"div\", class_=\"elementor-post__badge\")\n",
    "challenge_skills = challenge_tag.text.strip() if challenge_tag else None\n",
    "\n",
    "print(challenge_skills)"
   ]
  },
  {
   "cell_type": "code",
   "execution_count": 38,
   "id": "e2ca38be",
   "metadata": {},
   "outputs": [
    {
     "name": "stdout",
     "output_type": "stream",
     "text": [
      "Kyle Yetter\n",
      "https://secure.gravatar.com/avatar/c9562860300ed35d8f59195de500e49743ee87a839cc76c6de3c2577dc440c37?s=128&d=mm&r=g\n"
     ]
    }
   ],
   "source": [
    "avatar_tag = card.find(\"img\", class_=\"avatar\")\n",
    "contributor_name = avatar_tag.get(\"alt\")\n",
    "contributor_avatar = avatar_tag.get(\"src\")\n",
    "\n",
    "print(contributor_name)\n",
    "print(contributor_avatar)"
   ]
  },
  {
   "cell_type": "code",
   "execution_count": 39,
   "id": "737c4566",
   "metadata": {},
   "outputs": [
    {
     "name": "stdout",
     "output_type": "stream",
     "text": [
      "#WOW2025 Week 16 | Can you use Containers and Dynamic Zone Visibility?\n",
      "https://workout-wednesday.com/2025w16tab/\n"
     ]
    }
   ],
   "source": [
    "title_tag = card.find(\"h3\", class_=\"elementor-post__title\")\n",
    "challenge_name = title_tag.find(\"a\").text.strip()\n",
    "challenge_link = title_tag.find(\"a\").get(\"href\")\n",
    "\n",
    "print(challenge_name)\n",
    "print(challenge_link)"
   ]
  },
  {
   "cell_type": "code",
   "execution_count": 40,
   "id": "ecfe673e",
   "metadata": {},
   "outputs": [
    {
     "name": "stdout",
     "output_type": "stream",
     "text": [
      "April 17, 2025\n"
     ]
    }
   ],
   "source": [
    "date_tag = card.find(\"span\", class_=\"elementor-post-date\")\n",
    "challenge_date = date_tag.text.strip() if date_tag else None\n",
    "\n",
    "print(challenge_date)"
   ]
  },
  {
   "cell_type": "code",
   "execution_count": 41,
   "id": "9c2772ee",
   "metadata": {},
   "outputs": [
    {
     "name": "stdout",
     "output_type": "stream",
     "text": [
      "{'challenge_type': 'tableau', 'challenge_skills': 'containers', 'contributor_name': 'Kyle Yetter', 'contributor_avatar': 'https://secure.gravatar.com/avatar/c9562860300ed35d8f59195de500e49743ee87a839cc76c6de3c2577dc440c37?s=128&d=mm&r=g', 'challenge_name': '#WOW2025 Week 16 | Can you use Containers and Dynamic Zone Visibility?', 'challenge_link': 'https://workout-wednesday.com/2025w16tab/', 'challenge_date': 'April 17, 2025'}\n"
     ]
    }
   ],
   "source": [
    "challenge_data = {\n",
    "    \"challenge_type\": challenge_type,\n",
    "    \"challenge_skills\": challenge_skills,\n",
    "    \"contributor_name\": contributor_name,\n",
    "    \"contributor_avatar\": contributor_avatar,\n",
    "    \"challenge_name\": challenge_name,\n",
    "    \"challenge_link\": challenge_link,\n",
    "    \"challenge_date\": challenge_date,\n",
    "}\n",
    "\n",
    "print(challenge_data)"
   ]
  },
  {
   "cell_type": "markdown",
   "id": "a7ade50e",
   "metadata": {},
   "source": [
    "# Scraping All Cards from a Page\n",
    "\n",
    "Now that we understand how to extract a single card’s data, we'll wrap this logic inside a loop to collect information from **all cards** on the page."
   ]
  },
  {
   "cell_type": "code",
   "execution_count": 42,
   "id": "e22923c1",
   "metadata": {},
   "outputs": [
    {
     "name": "stdout",
     "output_type": "stream",
     "text": [
      "Found 200 challenges\n"
     ]
    }
   ],
   "source": [
    "challenge_cards = soup.find_all(\"article\", class_=\"elementor-post\")\n",
    "print(f\"Found {len(challenge_cards)} challenges\")"
   ]
  },
  {
   "cell_type": "code",
   "execution_count": 43,
   "id": "61c569a2",
   "metadata": {},
   "outputs": [],
   "source": [
    "challenge_data = {\n",
    "    \"challenge_type\": [],\n",
    "    \"challenge_skills\": [],\n",
    "    \"contributor_name\": [],\n",
    "    \"contributor_avatar\": [],\n",
    "    \"challenge_name\": [],\n",
    "    \"challenge_link\": [],\n",
    "    \"challenge_date\": [],\n",
    "}\n",
    "\n",
    "for card in challenge_cards:\n",
    "    try:\n",
    "        challenge_type = \"tableau\"\n",
    "        challenge_data[\"challenge_type\"].append(challenge_type)\n",
    "\n",
    "        challenge_tag = card.find(\"div\", class_=\"elementor-post__badge\")\n",
    "        challenge_skills = challenge_tag.text.strip().lower() if challenge_tag else None\n",
    "        challenge_data[\"challenge_skills\"].append(challenge_skills)\n",
    "\n",
    "        avatar_tag = card.find(\"img\", class_=\"avatar\")\n",
    "        contributor_name = avatar_tag.get(\"alt\") if avatar_tag else None\n",
    "        contributor_avatar = avatar_tag.get(\"src\") if avatar_tag else None\n",
    "        challenge_data[\"contributor_name\"].append(contributor_name)\n",
    "        challenge_data[\"contributor_avatar\"].append(contributor_avatar)\n",
    "\n",
    "        title_tag = card.find(\"h3\", class_=\"elementor-post__title\")\n",
    "        challenge_name = title_tag.find(\"a\").text.strip()\n",
    "        challenge_link = title_tag.find(\"a\").get(\"href\")\n",
    "        challenge_data[\"challenge_name\"].append(challenge_name)\n",
    "        challenge_data[\"challenge_link\"].append(challenge_link)\n",
    "\n",
    "        date_tag = card.find(\"span\", class_=\"elementor-post-date\")\n",
    "        challenge_date = date_tag.text.strip() if date_tag else None\n",
    "        challenge_data[\"challenge_date\"].append(challenge_date)\n",
    "    except:\n",
    "        print(card)"
   ]
  },
  {
   "cell_type": "code",
   "execution_count": 44,
   "id": "1f86c2f3",
   "metadata": {},
   "outputs": [
    {
     "data": {
      "text/html": [
       "<div>\n",
       "<style scoped>\n",
       "    .dataframe tbody tr th:only-of-type {\n",
       "        vertical-align: middle;\n",
       "    }\n",
       "\n",
       "    .dataframe tbody tr th {\n",
       "        vertical-align: top;\n",
       "    }\n",
       "\n",
       "    .dataframe thead th {\n",
       "        text-align: right;\n",
       "    }\n",
       "</style>\n",
       "<table border=\"1\" class=\"dataframe\">\n",
       "  <thead>\n",
       "    <tr style=\"text-align: right;\">\n",
       "      <th></th>\n",
       "      <th>challenge_type</th>\n",
       "      <th>challenge_skills</th>\n",
       "      <th>contributor_name</th>\n",
       "      <th>contributor_avatar</th>\n",
       "      <th>challenge_name</th>\n",
       "      <th>challenge_link</th>\n",
       "      <th>challenge_date</th>\n",
       "    </tr>\n",
       "  </thead>\n",
       "  <tbody>\n",
       "    <tr>\n",
       "      <th>0</th>\n",
       "      <td>tableau</td>\n",
       "      <td>parameters</td>\n",
       "      <td>Donna Coles</td>\n",
       "      <td>https://secure.gravatar.com/avatar/1904e3dc24c...</td>\n",
       "      <td>#WOW2025 | WEEK 17 | Can you switch measures?</td>\n",
       "      <td>https://workout-wednesday.com/2025w17tab/</td>\n",
       "      <td>April 22, 2025</td>\n",
       "    </tr>\n",
       "    <tr>\n",
       "      <th>1</th>\n",
       "      <td>tableau</td>\n",
       "      <td>containers</td>\n",
       "      <td>Kyle Yetter</td>\n",
       "      <td>https://secure.gravatar.com/avatar/c9562860300...</td>\n",
       "      <td>#WOW2025 Week 16 | Can you use Containers and ...</td>\n",
       "      <td>https://workout-wednesday.com/2025w16tab/</td>\n",
       "      <td>April 17, 2025</td>\n",
       "    </tr>\n",
       "    <tr>\n",
       "      <th>2</th>\n",
       "      <td>tableau</td>\n",
       "      <td>None</td>\n",
       "      <td>Erica Hughes</td>\n",
       "      <td>https://secure.gravatar.com/avatar/be165cc10d8...</td>\n",
       "      <td>#WOW2025 | Week 15 | Community Month: Anna Cla...</td>\n",
       "      <td>https://workout-wednesday.com/2025w15tab/</td>\n",
       "      <td>April 8, 2025</td>\n",
       "    </tr>\n",
       "    <tr>\n",
       "      <th>3</th>\n",
       "      <td>tableau</td>\n",
       "      <td>packed bubble</td>\n",
       "      <td>Yusuke Nakanishi</td>\n",
       "      <td>https://secure.gravatar.com/avatar/64dbbade799...</td>\n",
       "      <td>#WOW2025 | Week 14 | Which products have low p...</td>\n",
       "      <td>https://workout-wednesday.com/2025%ef%bd%9714tab/</td>\n",
       "      <td>April 1, 2025</td>\n",
       "    </tr>\n",
       "    <tr>\n",
       "      <th>4</th>\n",
       "      <td>tableau</td>\n",
       "      <td>dynamic zone visibility</td>\n",
       "      <td>Yoshitaka Arakawa</td>\n",
       "      <td>https://secure.gravatar.com/avatar/ad4357a314b...</td>\n",
       "      <td>#WOW2025 | Week 13 | Data Storytelling with Dy...</td>\n",
       "      <td>https://workout-wednesday.com/2025w13tab/</td>\n",
       "      <td>March 25, 2025</td>\n",
       "    </tr>\n",
       "  </tbody>\n",
       "</table>\n",
       "</div>"
      ],
      "text/plain": [
       "  challenge_type         challenge_skills   contributor_name  \\\n",
       "0        tableau               parameters        Donna Coles   \n",
       "1        tableau               containers        Kyle Yetter   \n",
       "2        tableau                     None       Erica Hughes   \n",
       "3        tableau            packed bubble   Yusuke Nakanishi   \n",
       "4        tableau  dynamic zone visibility  Yoshitaka Arakawa   \n",
       "\n",
       "                                  contributor_avatar  \\\n",
       "0  https://secure.gravatar.com/avatar/1904e3dc24c...   \n",
       "1  https://secure.gravatar.com/avatar/c9562860300...   \n",
       "2  https://secure.gravatar.com/avatar/be165cc10d8...   \n",
       "3  https://secure.gravatar.com/avatar/64dbbade799...   \n",
       "4  https://secure.gravatar.com/avatar/ad4357a314b...   \n",
       "\n",
       "                                      challenge_name  \\\n",
       "0      #WOW2025 | WEEK 17 | Can you switch measures?   \n",
       "1  #WOW2025 Week 16 | Can you use Containers and ...   \n",
       "2  #WOW2025 | Week 15 | Community Month: Anna Cla...   \n",
       "3  #WOW2025 | Week 14 | Which products have low p...   \n",
       "4  #WOW2025 | Week 13 | Data Storytelling with Dy...   \n",
       "\n",
       "                                      challenge_link  challenge_date  \n",
       "0          https://workout-wednesday.com/2025w17tab/  April 22, 2025  \n",
       "1          https://workout-wednesday.com/2025w16tab/  April 17, 2025  \n",
       "2          https://workout-wednesday.com/2025w15tab/   April 8, 2025  \n",
       "3  https://workout-wednesday.com/2025%ef%bd%9714tab/   April 1, 2025  \n",
       "4          https://workout-wednesday.com/2025w13tab/  March 25, 2025  "
      ]
     },
     "execution_count": 44,
     "metadata": {},
     "output_type": "execute_result"
    }
   ],
   "source": [
    "# Convert into a dataframe\n",
    "import pandas as pd\n",
    "\n",
    "df = pd.DataFrame(challenge_data)\n",
    "df.head()"
   ]
  },
  {
   "cell_type": "markdown",
   "id": "e8290d2b",
   "metadata": {},
   "source": [
    "# Finalize as a Function\n",
    "\n",
    "We’re nearing the end of this notebook. To make our scraping logic reusable, we’ll encapsulate it into a function: `scrape_and_save_challenges`.\n",
    "\n",
    "This function allows you to specify a challenge track (e.g., Tableau, Power BI), and it will scrape **all challenge cards** from that track, across **multiple pages** (pagination included), and save the data as a `.csv` file.\n",
    "\n",
    "Each time the function runs, it saves the result in a date-stamped folder. This acts like a versioning system — so if, for example, the Tableau page 2 is broken in a future scrape, we can restore a previous, working version of that data."
   ]
  },
  {
   "cell_type": "code",
   "execution_count": 45,
   "id": "47a27c13",
   "metadata": {},
   "outputs": [
    {
     "name": "stdout",
     "output_type": "stream",
     "text": [
      "Scraping page: https://workout-wednesday.com/latest/\n",
      "🧾 Found 200 cards on this page.\n",
      "Scraping page: https://workout-wednesday.com/latest/2/\n",
      "🧾 Found 200 cards on this page.\n",
      "Scraping page: https://workout-wednesday.com/latest/3/\n",
      "🧾 Found 34 cards on this page.\n",
      "✅ Scraped 434 challenges total.\n",
      "📁 Saved to: ..\\data\\raw\\2025-04-23\\tableau_challenges.csv\n",
      "Scraping page: https://workout-wednesday.com/power-bi-challenges/\n",
      "🧾 Found 200 cards on this page.\n",
      "Scraping page: https://workout-wednesday.com/power-bi-challenges/2/\n",
      "🧾 Found 19 cards on this page.\n",
      "✅ Scraped 219 challenges total.\n",
      "📁 Saved to: ..\\data\\raw\\2025-04-23\\power-bi_challenges.csv\n",
      "Scraping page: https://workout-wednesday.com/crm-analytics-challenges/\n",
      "🧾 Found 58 cards on this page.\n",
      "✅ Scraped 58 challenges total.\n",
      "📁 Saved to: ..\\data\\raw\\2025-04-23\\crm-analytics_challenges.csv\n",
      "Scraping page: https://workout-wednesday.com/sigma-challenges/\n",
      "🧾 Found 70 cards on this page.\n",
      "✅ Scraped 70 challenges total.\n",
      "📁 Saved to: ..\\data\\raw\\2025-04-23\\sigma_challenges.csv\n"
     ]
    },
    {
     "data": {
      "text/html": [
       "<div>\n",
       "<style scoped>\n",
       "    .dataframe tbody tr th:only-of-type {\n",
       "        vertical-align: middle;\n",
       "    }\n",
       "\n",
       "    .dataframe tbody tr th {\n",
       "        vertical-align: top;\n",
       "    }\n",
       "\n",
       "    .dataframe thead th {\n",
       "        text-align: right;\n",
       "    }\n",
       "</style>\n",
       "<table border=\"1\" class=\"dataframe\">\n",
       "  <thead>\n",
       "    <tr style=\"text-align: right;\">\n",
       "      <th></th>\n",
       "      <th>challenge_track</th>\n",
       "      <th>challenge_name</th>\n",
       "      <th>challenge_link</th>\n",
       "      <th>post_date</th>\n",
       "      <th>contributor_name</th>\n",
       "      <th>contributor_avatar</th>\n",
       "      <th>challenge_skills</th>\n",
       "    </tr>\n",
       "  </thead>\n",
       "  <tbody>\n",
       "    <tr>\n",
       "      <th>0</th>\n",
       "      <td>sigma</td>\n",
       "      <td>2025 Week 17 | Sigma : Can you create these bars?</td>\n",
       "      <td>https://workout-wednesday.com/2025-week-17-sig...</td>\n",
       "      <td>April 23, 2025</td>\n",
       "      <td>Katrina Menne</td>\n",
       "      <td>https://secure.gravatar.com/avatar/f480d17c94e...</td>\n",
       "      <td>design</td>\n",
       "    </tr>\n",
       "    <tr>\n",
       "      <th>1</th>\n",
       "      <td>sigma</td>\n",
       "      <td>2025 Week 16 | Sigma: Can you update and delete?</td>\n",
       "      <td>https://workout-wednesday.com/2025-week-16-sig...</td>\n",
       "      <td>April 16, 2025</td>\n",
       "      <td>Ashley Bennett</td>\n",
       "      <td>https://secure.gravatar.com/avatar/f706b14658f...</td>\n",
       "      <td>input tables</td>\n",
       "    </tr>\n",
       "    <tr>\n",
       "      <th>2</th>\n",
       "      <td>sigma</td>\n",
       "      <td>2025 Week 15 | Sigma: Can You Override Elegantly?</td>\n",
       "      <td>https://workout-wednesday.com/2025-week-15-sig...</td>\n",
       "      <td>April 9, 2025</td>\n",
       "      <td>Eric Heidbreder</td>\n",
       "      <td>https://secure.gravatar.com/avatar/f6ae8fdb3d4...</td>\n",
       "      <td>input tables</td>\n",
       "    </tr>\n",
       "    <tr>\n",
       "      <th>3</th>\n",
       "      <td>sigma</td>\n",
       "      <td>2025 Week 14 | Sigma: Can you Create a Small M...</td>\n",
       "      <td>https://workout-wednesday.com/2025-week-14-sig...</td>\n",
       "      <td>April 3, 2025</td>\n",
       "      <td>Carter Voekel</td>\n",
       "      <td>https://secure.gravatar.com/avatar/31c23237708...</td>\n",
       "      <td>design</td>\n",
       "    </tr>\n",
       "    <tr>\n",
       "      <th>4</th>\n",
       "      <td>sigma</td>\n",
       "      <td>2025 Week 13 | Sigma : Can you track the winni...</td>\n",
       "      <td>https://workout-wednesday.com/2025-week-13-sig...</td>\n",
       "      <td>March 27, 2025</td>\n",
       "      <td>Katrina Menne</td>\n",
       "      <td>https://secure.gravatar.com/avatar/f480d17c94e...</td>\n",
       "      <td>groupings</td>\n",
       "    </tr>\n",
       "  </tbody>\n",
       "</table>\n",
       "</div>"
      ],
      "text/plain": [
       "  challenge_track                                     challenge_name  \\\n",
       "0           sigma  2025 Week 17 | Sigma : Can you create these bars?   \n",
       "1           sigma   2025 Week 16 | Sigma: Can you update and delete?   \n",
       "2           sigma  2025 Week 15 | Sigma: Can You Override Elegantly?   \n",
       "3           sigma  2025 Week 14 | Sigma: Can you Create a Small M...   \n",
       "4           sigma  2025 Week 13 | Sigma : Can you track the winni...   \n",
       "\n",
       "                                      challenge_link       post_date  \\\n",
       "0  https://workout-wednesday.com/2025-week-17-sig...  April 23, 2025   \n",
       "1  https://workout-wednesday.com/2025-week-16-sig...  April 16, 2025   \n",
       "2  https://workout-wednesday.com/2025-week-15-sig...   April 9, 2025   \n",
       "3  https://workout-wednesday.com/2025-week-14-sig...   April 3, 2025   \n",
       "4  https://workout-wednesday.com/2025-week-13-sig...  March 27, 2025   \n",
       "\n",
       "  contributor_name                                 contributor_avatar  \\\n",
       "0    Katrina Menne  https://secure.gravatar.com/avatar/f480d17c94e...   \n",
       "1   Ashley Bennett  https://secure.gravatar.com/avatar/f706b14658f...   \n",
       "2  Eric Heidbreder  https://secure.gravatar.com/avatar/f6ae8fdb3d4...   \n",
       "3    Carter Voekel  https://secure.gravatar.com/avatar/31c23237708...   \n",
       "4    Katrina Menne  https://secure.gravatar.com/avatar/f480d17c94e...   \n",
       "\n",
       "  challenge_skills  \n",
       "0           design  \n",
       "1     input tables  \n",
       "2     input tables  \n",
       "3           design  \n",
       "4        groupings  "
      ]
     },
     "execution_count": 45,
     "metadata": {},
     "output_type": "execute_result"
    }
   ],
   "source": [
    "from pathlib import Path\n",
    "from datetime import date\n",
    "import requests\n",
    "from bs4 import BeautifulSoup\n",
    "import pandas as pd\n",
    "import time\n",
    "\n",
    "def scrape_and_save_challenges(challenge_track):\n",
    "    base_url = \"https://workout-wednesday.com\"\n",
    "    if challenge_track == \"tableau\":\n",
    "        url = base_url + \"/latest/\"\n",
    "    elif challenge_track == \"power-bi\":\n",
    "        url = base_url + \"/power-bi-challenges/\"\n",
    "    elif challenge_track == \"crm-analytics\":\n",
    "        url = base_url + \"/crm-analytics-challenges/\"\n",
    "    elif challenge_track == \"sigma\":\n",
    "        url = base_url + \"/sigma-challenges/\"\n",
    "    else:\n",
    "        raise ValueError(f\"Unsupported challenge track: {challenge_track}\")\n",
    "\n",
    "    # Prepare to collect all data\n",
    "    challenge_data = {\n",
    "        \"challenge_track\": [],\n",
    "        \"challenge_name\": [],\n",
    "        \"challenge_link\": [],\n",
    "        \"post_date\": [],\n",
    "        \"contributor_name\": [],\n",
    "        \"contributor_avatar\": [],\n",
    "        \"challenge_skills\": [],\n",
    "    }\n",
    "\n",
    "    while url:\n",
    "        print(f\"Scraping page: {url}\")\n",
    "        time.sleep(1)\n",
    "        response = requests.get(url)\n",
    "        soup = BeautifulSoup(response.text, \"lxml\")\n",
    "\n",
    "        # Get all cards on the page\n",
    "        cards = soup.find_all(\"article\", class_=\"elementor-post\")\n",
    "\n",
    "        for card in cards:\n",
    "            try:\n",
    "                challenge_data[\"challenge_track\"].append(challenge_track)\n",
    "\n",
    "                title_tag = card.find(\"h3\", class_=\"elementor-post__title\")\n",
    "                link_tag = title_tag.find(\"a\") if title_tag else None\n",
    "                challenge_name = link_tag.text.strip() if link_tag else None\n",
    "                challenge_link = link_tag.get(\"href\") if link_tag else None\n",
    "                challenge_data[\"challenge_name\"].append(challenge_name)\n",
    "                challenge_data[\"challenge_link\"].append(challenge_link)\n",
    "\n",
    "                date_tag = card.find(\"span\", class_=\"elementor-post-date\")\n",
    "                post_date = date_tag.text.strip() if date_tag else None\n",
    "                challenge_data[\"post_date\"].append(post_date)\n",
    "\n",
    "                avatar_tag = card.find(\"img\", class_=\"avatar\")\n",
    "                contributor_name = avatar_tag.get(\"alt\") if avatar_tag else None\n",
    "                contributor_avatar = avatar_tag.get(\"src\") if avatar_tag else None\n",
    "                challenge_data[\"contributor_avatar\"].append(contributor_avatar)\n",
    "                challenge_data[\"contributor_name\"].append(contributor_name)\n",
    "\n",
    "                badge = card.find(\"div\", class_=\"elementor-post__badge\")\n",
    "                challenge_skill = badge.text.strip().lower() if badge else None\n",
    "                challenge_data[\"challenge_skills\"].append(challenge_skill)\n",
    "        \n",
    "            except Exception as e:\n",
    "                print(\"Error while parsing a card:\", e)\n",
    "                continue\n",
    "        print(f\"🧾 Found {len(cards)} cards on this page.\") \n",
    "        \n",
    "        # Find the \"Next\" page link\n",
    "        next_button = soup.find(\"a\", class_=\"page-numbers next\")\n",
    "        url = next_button.get(\"href\") if next_button else None\n",
    "\n",
    "    # Save the results to a dated folder\n",
    "    today = date.today().isoformat()\n",
    "    folder_path = Path(\"..\") / \"data\" / \"raw\" / today\n",
    "    folder_path.mkdir(parents=True, exist_ok=True)\n",
    "\n",
    "    df = pd.DataFrame(challenge_data)\n",
    "    file_path = folder_path / f\"{challenge_track}_challenges.csv\"\n",
    "    df.to_csv(file_path, index=False)\n",
    "\n",
    "    print(f\"✅ Scraped {len(df)} challenges total.\")\n",
    "    print(f\"📁 Saved to: {file_path}\")\n",
    "\n",
    "    return df\n",
    "\n",
    "df = scrape_and_save_challenges(challenge_track=\"tableau\")\n",
    "df = scrape_and_save_challenges(challenge_track=\"power-bi\")\n",
    "df = scrape_and_save_challenges(challenge_track=\"crm-analytics\")\n",
    "df = scrape_and_save_challenges(challenge_track=\"sigma\")\n",
    "df.head()"
   ]
  },
  {
   "cell_type": "markdown",
   "id": "239c50ac",
   "metadata": {},
   "source": [
    "# Conclusion\n",
    "\n",
    "In this notebook, we explored how to scrape metadata about data visualization challenges from the Workout Wednesday website. Although we haven’t scraped deeper challenge details (such as descriptions, solutions, or comments), the dataset we’ve built is already valuable.\n",
    "\n",
    "For example, we could identify the most prolific contributors in each challenge track, or detect which contributors have recently stopped participating. A potential future application would be to automatically email top contributors to re-engage them in the community 🚀🚀🚀\n",
    "\n",
    "This notebook lays a strong foundation for downstream data preparation and analysis."
   ]
  }
 ],
 "metadata": {
  "kernelspec": {
   "display_name": "Python 3",
   "language": "python",
   "name": "python3"
  },
  "language_info": {
   "codemirror_mode": {
    "name": "ipython",
    "version": 3
   },
   "file_extension": ".py",
   "mimetype": "text/x-python",
   "name": "python",
   "nbconvert_exporter": "python",
   "pygments_lexer": "ipython3",
   "version": "3.10.11"
  }
 },
 "nbformat": 4,
 "nbformat_minor": 5
}
